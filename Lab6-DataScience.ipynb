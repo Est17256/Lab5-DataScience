{
 "cells": [
  {
   "cell_type": "code",
   "execution_count": 50,
   "metadata": {},
   "outputs": [],
   "source": [
    "import tweepy\n",
    "import time\n",
    "import pandas as pd\n",
    "import re"
   ]
  },
  {
   "cell_type": "code",
   "execution_count": 10,
   "metadata": {},
   "outputs": [],
   "source": [
    "consumer_key = \"xxxxx\"\n",
    "consumer_secret = \"xxxxx\"\n",
    "access_token = \"xxxxx\"\n",
    "access_token_secret = \"xxxxx\"\n",
    "auth = tweepy.OAuthHandler(consumer_key, consumer_secret)\n",
    "auth.set_access_token(access_token, access_token_secret)\n",
    "api = tweepy.API(auth,wait_on_rate_limit=True)"
   ]
  },
  {
   "cell_type": "code",
   "execution_count": 59,
   "metadata": {},
   "outputs": [],
   "source": [
    "text_query = '#CoronavirusGT'\n",
    "count = 150\n",
    "try:\n",
    "    # Creation of query method using parameters\n",
    "    tweets = tweepy.Cursor(api.search,q=text_query).items(count)\n",
    "    # Pulling information from tweets iterable object\n",
    "    tweets_list = [[tweet.created_at,tweet.text] for tweet in tweets]\n",
    " \n",
    "    # Creation of dataframe from tweets list\n",
    "    # Add or remove columns as you remove tweet information\n",
    "    tweets_df = pd.DataFrame(tweets_list)\n",
    "except BaseException as e:\n",
    "    print('failed on_status,',str(e))\n",
    "    time.sleep(3)"
   ]
  },
  {
   "cell_type": "code",
   "execution_count": 60,
   "metadata": {},
   "outputs": [],
   "source": [
    "tweets = tweets_df[1]\n",
    "tweets= tweets.apply(lambda x: x.lower() if type(x) == str else x)\n",
    "tweets = tweets.apply(lambda x: re.sub('[^a-zA-Z0-9 ]+','', x) if type(x) == str else x)\n",
    "tweets = tweets.apply(lambda x: re.sub('\\w+:\\/{2}[\\d\\w-]+(\\.[\\d\\w-]+)*(?:(?:\\/[^\\s/]*))*','',x) if type(x) == str else x)"
   ]
  },
  {
   "cell_type": "code",
   "execution_count": 61,
   "metadata": {},
   "outputs": [
    {
     "data": {
      "text/plain": [
       "0      rt soy502 coronavirusgt   guatemala reabrir su...\n",
       "1      rt coronavirusgt datoscovidgt en la regin hemo...\n",
       "2      rt soy502 coronavirusgt   guatemala reabrir su...\n",
       "3      rt soy502 coronavirusgt   guatemala reabrir su...\n",
       "4      rt ojoconmipisto a la pandemia y crisis por el...\n",
       "                             ...                        \n",
       "145    coronavirusgt empresas y colegios no podrn exi...\n",
       "146    rt jgramajosoy502 coronavirusgt   coprecovid l...\n",
       "147    were all in this together until price fixing h...\n",
       "148    coronavirusgt  al 1 de septiembre se reporta p...\n",
       "149    rt soy502 coronavirusgt empresas y colegios no...\n",
       "Name: 1, Length: 150, dtype: object"
      ]
     },
     "execution_count": 61,
     "metadata": {},
     "output_type": "execute_result"
    }
   ],
   "source": [
    "titles"
   ]
  }
 ],
 "metadata": {
  "kernelspec": {
   "display_name": "Python 3",
   "language": "python",
   "name": "python3"
  },
  "language_info": {
   "codemirror_mode": {
    "name": "ipython",
    "version": 3
   },
   "file_extension": ".py",
   "mimetype": "text/x-python",
   "name": "python",
   "nbconvert_exporter": "python",
   "pygments_lexer": "ipython3",
   "version": "3.8.2"
  }
 },
 "nbformat": 4,
 "nbformat_minor": 4
}
